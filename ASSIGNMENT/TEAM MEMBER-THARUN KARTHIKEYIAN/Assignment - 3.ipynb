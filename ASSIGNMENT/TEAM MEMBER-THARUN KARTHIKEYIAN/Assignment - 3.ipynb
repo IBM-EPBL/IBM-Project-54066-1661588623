{
  "cells": [
    {
      "cell_type": "markdown",
      "metadata": {
        "id": "68YqUWptJ7EN"
      },
      "source": [
        "# Build CNN Model for classification of Flowers"
      ]
    },
    {
      "cell_type": "markdown",
      "metadata": {},
      "source": [
        "1)Download Dataset"
      ]
    },
    {
      "cell_type": "code",
      "execution_count": 1,
      "metadata": {
        "colab": {
          "base_uri": "https://localhost:8080/"
        },
        "id": "g8zZWV7hA49V",
        "outputId": "259b7381-8ed5-43b8-9b98-326f1b28d5c6"
      },
      "outputs": [
        {
          "name": "stdout",
          "output_type": "stream",
          "text": [
            "Mounted at /content/drive\n"
          ]
        }
      ],
      "source": [
        "from google.colab import drive\n",
        "drive.mount('/content/drive')"
      ]
    },
    {
      "cell_type": "markdown",
      "metadata": {
        "id": "oWb7R7tCIaMj"
      },
      "source": [
        "# 2)Image Augmentation"
      ]
    },
    {
      "cell_type": "code",
      "execution_count": 2,
      "metadata": {
        "id": "_atJ93bWBHL4"
      },
      "outputs": [],
      "source": [
        "from tensorflow.keras.preprocessing.image import ImageDataGenerator\n",
        "train_datagen=ImageDataGenerator(rescale=1./255,zoom_range=0.2,horizontal_flip=True,vertical_flip=True)\n",
        "test_datagen=ImageDataGenerator(rescale=1./255)"
      ]
    },
    {
      "cell_type": "markdown",
      "metadata": {
        "id": "9pDDhGIEIhC2"
      },
      "source": [
        "## Load Data"
      ]
    },
    {
      "cell_type": "code",
      "execution_count": 3,
      "metadata": {
        "colab": {
          "base_uri": "https://localhost:8080/"
        },
        "id": "yiSTnCCRBgm3",
        "outputId": "820952d1-799d-4ccc-9794-a838692f94dd"
      },
      "outputs": [
        {
          "name": "stdout",
          "output_type": "stream",
          "text": [
            "Found 4317 images belonging to 5 classes.\n"
          ]
        }
      ],
      "source": [
        "x_train=train_datagen.flow_from_directory(r\"/content/drive/MyDrive/Data/Flowers/flowers\",target_size=(64,64),class_mode='categorical',batch_size=24)"
      ]
    },
    {
      "cell_type": "code",
      "execution_count": 5,
      "metadata": {
        "colab": {
          "base_uri": "https://localhost:8080/"
        },
        "id": "cEF-VagPBx99",
        "outputId": "8ddb4152-fe22-4fa5-e582-5cb472905af7"
      },
      "outputs": [
        {
          "name": "stdout",
          "output_type": "stream",
          "text": [
            "Found 4317 images belonging to 5 classes.\n"
          ]
        }
      ],
      "source": [
        "x_test=test_datagen.flow_from_directory(r\"/content/drive/MyDrive/Data/Flowers/flowers\",target_size=(64,64),class_mode='categorical',batch_size=24)"
      ]
    },
    {
      "cell_type": "code",
      "execution_count": 44,
      "metadata": {
        "colab": {
          "base_uri": "https://localhost:8080/"
        },
        "id": "o9eVVZzpB81d",
        "outputId": "311d37a7-acba-427b-c160-54674c7c0407"
      },
      "outputs": [
        {
          "data": {
            "text/plain": [
              "{'daisy': 0, 'dandelion': 1, 'rose': 2, 'sunflower': 3, 'tulip': 4}"
            ]
          },
          "execution_count": 44,
          "metadata": {},
          "output_type": "execute_result"
        }
      ],
      "source": [
        "x_train.class_indices"
      ]
    },
    {
      "cell_type": "code",
      "execution_count": 45,
      "metadata": {
        "colab": {
          "base_uri": "https://localhost:8080/"
        },
        "id": "GSu6j-frG-t5",
        "outputId": "4cfefb98-e28e-49ac-9911-87322d915dc2"
      },
      "outputs": [
        {
          "data": {
            "text/plain": [
              "{'daisy': 0, 'dandelion': 1, 'rose': 2, 'sunflower': 3, 'tulip': 4}"
            ]
          },
          "execution_count": 45,
          "metadata": {},
          "output_type": "execute_result"
        }
      ],
      "source": [
        "x_test.class_indices"
      ]
    },
    {
      "cell_type": "markdown",
      "metadata": {
        "id": "w0DrdYiWIv8a"
      },
      "source": [
        "# 3)Create Model"
      ]
    },
    {
      "cell_type": "code",
      "execution_count": 7,
      "metadata": {
        "id": "Kq_4sOy0CIyp"
      },
      "outputs": [],
      "source": [
        "from tensorflow.keras.models import Sequential\n",
        "from tensorflow.keras.layers import Dense,Convolution2D,MaxPooling2D,Flatten\n",
        "model=Sequential()"
      ]
    },
    {
      "cell_type": "markdown",
      "metadata": {
        "id": "bhxKd5gKI0Vt"
      },
      "source": [
        "# 4)Add Layers\n",
        "\n",
        "\n",
        "\n",
        "a)Convolution Layer\n",
        "\n",
        "\n"
      ]
    },
    {
      "cell_type": "code",
      "execution_count": 8,
      "metadata": {
        "id": "A4WpHVU1CMK7"
      },
      "outputs": [],
      "source": [
        "model.add(Convolution2D(32,(3,3),kernel_initializer=\"random_uniform\",activation=\"relu\",strides=(1,1),input_shape=(64,64,3)))"
      ]
    },
    {
      "cell_type": "markdown",
      "metadata": {
        "id": "AgC5kgi9I-WM"
      },
      "source": [
        "b)MaxPooling Layer"
      ]
    },
    {
      "cell_type": "code",
      "execution_count": 9,
      "metadata": {
        "id": "NpCjxIo0CReq"
      },
      "outputs": [],
      "source": [
        "model.add(MaxPooling2D(pool_size=(2,2)))"
      ]
    },
    {
      "cell_type": "markdown",
      "metadata": {
        "id": "8uLuyHYdJFvH"
      },
      "source": [
        "c)Flatten"
      ]
    },
    {
      "cell_type": "code",
      "execution_count": 10,
      "metadata": {
        "id": "lJ3M4ezICVox"
      },
      "outputs": [],
      "source": [
        "model.add(Flatten())"
      ]
    },
    {
      "cell_type": "markdown",
      "metadata": {
        "id": "phXf_Nb7JIHu"
      },
      "source": [
        "d)Dense(Hidden layer)"
      ]
    },
    {
      "cell_type": "code",
      "execution_count": 11,
      "metadata": {
        "id": "Y-7SbzhCCaUr"
      },
      "outputs": [],
      "source": [
        "model.add(Dense(300,activation=\"relu\"))\n",
        "model.add(Dense(300,activation=\"relu\"))"
      ]
    },
    {
      "cell_type": "markdown",
      "metadata": {
        "id": "7162sGCbJSfe"
      },
      "source": [
        "e)Output layer"
      ]
    },
    {
      "cell_type": "code",
      "execution_count": 12,
      "metadata": {
        "id": "fI5UyxmrCl0S"
      },
      "outputs": [],
      "source": [
        "model.add(Dense(5,activation=\"softmax\"))"
      ]
    },
    {
      "cell_type": "markdown",
      "metadata": {
        "id": "Mv448YJjJaYU"
      },
      "source": [
        "# 5)Compile the model"
      ]
    },
    {
      "cell_type": "code",
      "execution_count": 13,
      "metadata": {
        "id": "iE4EB94tCoDo"
      },
      "outputs": [],
      "source": [
        "model.compile(loss=\"categorical_crossentropy\",metrics=['accuracy'],optimizer='adam')"
      ]
    },
    {
      "cell_type": "markdown",
      "metadata": {
        "id": "jfKfQtOdJhPZ"
      },
      "source": [
        "# 6)Fit the model"
      ]
    },
    {
      "cell_type": "code",
      "execution_count": 46,
      "metadata": {
        "colab": {
          "base_uri": "https://localhost:8080/"
        },
        "id": "HMtYBZGSHXBV",
        "outputId": "77da4a95-a038-4a22-b573-d1a7986610ba"
      },
      "outputs": [
        {
          "name": "stdout",
          "output_type": "stream",
          "text": [
            "Epoch 1/5\n",
            "180/180 [==============================] - 613s 3s/step - loss: 1.1807 - accuracy: 0.5071 - val_loss: 1.0645 - val_accuracy: 0.5698\n",
            "Epoch 2/5\n",
            "180/180 [==============================] - 67s 375ms/step - loss: 1.0647 - accuracy: 0.5726 - val_loss: 1.0555 - val_accuracy: 0.5837\n",
            "Epoch 3/5\n",
            "180/180 [==============================] - 68s 377ms/step - loss: 1.0042 - accuracy: 0.6013 - val_loss: 0.9352 - val_accuracy: 0.6391\n",
            "Epoch 4/5\n",
            "180/180 [==============================] - 66s 368ms/step - loss: 0.9319 - accuracy: 0.6379 - val_loss: 0.9133 - val_accuracy: 0.6530\n",
            "Epoch 5/5\n",
            "180/180 [==============================] - 66s 370ms/step - loss: 0.8710 - accuracy: 0.6606 - val_loss: 0.9661 - val_accuracy: 0.6375\n"
          ]
        },
        {
          "data": {
            "text/plain": [
              "<keras.callbacks.History at 0x7fc655b9d350>"
            ]
          },
          "execution_count": 46,
          "metadata": {},
          "output_type": "execute_result"
        }
      ],
      "source": [
        "model.fit(x_train,epochs=5,steps_per_epoch=len(x_train),validation_data=x_test,validation_steps=len(x_test))"
      ]
    },
    {
      "cell_type": "markdown",
      "metadata": {
        "id": "vLNZKQtJJkMx"
      },
      "source": [
        "# 7)Save the model"
      ]
    },
    {
      "cell_type": "code",
      "execution_count": 15,
      "metadata": {
        "id": "9uAHqn4rDlcw"
      },
      "outputs": [],
      "source": [
        "model.save(\"Flowers.h5\")"
      ]
    },
    {
      "cell_type": "markdown",
      "metadata": {
        "id": "kwBsj1ZLJr85"
      },
      "source": [
        "# 8)Test the model"
      ]
    },
    {
      "cell_type": "code",
      "execution_count": 40,
      "metadata": {
        "id": "J2MdX1W4EHc-"
      },
      "outputs": [],
      "source": [
        "import numpy as np\n",
        "from tensorflow.keras.models import load_model\n",
        "from tensorflow.keras.preprocessing import image\n",
        "model=load_model(\"Flowers.h5\")\n",
        "img=image.load_img(r\"/content/drive/MyDrive/Data/Flowers/flowers/sunflower/1008566138_6927679c8a.jpg\",target_size=(64,64))"
      ]
    },
    {
      "cell_type": "code",
      "execution_count": 41,
      "metadata": {
        "colab": {
          "base_uri": "https://localhost:8080/",
          "height": 81
        },
        "id": "LuVDiGkWFN2Y",
        "outputId": "8a3e4109-bef1-413d-f6d4-f74cfb5ec196"
      },
      "outputs": [
        {
          "data": {
            "image/png": "[encoded data removed]",
            "text/plain": [
              "<PIL.Image.Image image mode=RGB size=64x64 at 0x7FC65B9D19D0>"
            ]
          },
          "execution_count": 41,
          "metadata": {},
          "output_type": "execute_result"
        }
      ],
      "source": [
        "img"
      ]
    },
    {
      "cell_type": "code",
      "execution_count": 24,
      "metadata": {
        "id": "IlHIXFXSFR4X"
      },
      "outputs": [],
      "source": [
        "x=image.img_to_array(img)"
      ]
    },
    {
      "cell_type": "code",
      "execution_count": 25,
      "metadata": {
        "id": "GnwMYY2mEaep"
      },
      "outputs": [],
      "source": [
        "x=np.expand_dims(x,axis=0)"
      ]
    },
    {
      "cell_type": "code",
      "execution_count": 26,
      "metadata": {
        "id": "p02qw0j8FWLR"
      },
      "outputs": [],
      "source": [
        "pred=model.predict(x)"
      ]
    },
    {
      "cell_type": "code",
      "execution_count": 27,
      "metadata": {
        "colab": {
          "base_uri": "https://localhost:8080/"
        },
        "id": "WZcwa72_FZLX",
        "outputId": "1bda312e-a6bf-489c-b3d0-2f416c17eff2"
      },
      "outputs": [
        {
          "data": {
            "text/plain": [
              "array([[0., 0., 0., 1., 0.]], dtype=float32)"
            ]
          },
          "execution_count": 27,
          "metadata": {},
          "output_type": "execute_result"
        }
      ],
      "source": [
        "pred"
      ]
    },
    {
      "cell_type": "code",
      "execution_count": 42,
      "metadata": {
        "id": "bA7C61PVFddZ"
      },
      "outputs": [],
      "source": [
        "index=['daisy','dandelion','rose','sunflower','tulip']"
      ]
    },
    {
      "cell_type": "code",
      "execution_count": 43,
      "metadata": {
        "colab": {
          "base_uri": "https://localhost:8080/",
          "height": 36
        },
        "id": "UIGzCv5BGjR6",
        "outputId": "84d0b594-4b94-49dd-f282-c57a404ed186"
      },
      "outputs": [
        {
          "data": {
            "application/vnd.google.colaboratory.intrinsic+json": {
              "type": "string"
            },
            "text/plain": [
              "'sunflower'"
            ]
          },
          "execution_count": 43,
          "metadata": {},
          "output_type": "execute_result"
        }
      ],
      "source": [
        "index[np.argmax(pred)]"
      ]
    }
  ],
  "metadata": {
    "colab": {
      "provenance": []
    },
    "kernelspec": {
      "display_name": "Python 3",
      "name": "python3"
    },
    "language_info": {
      "name": "python"
    }
  },
  "nbformat": 4,
  "nbformat_minor": 0
}
